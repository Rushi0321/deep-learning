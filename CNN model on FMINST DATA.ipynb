{
 "cells": [
  {
   "cell_type": "code",
   "execution_count": 1,
   "id": "265ebb4a",
   "metadata": {},
   "outputs": [],
   "source": [
    "import tensorflow as tf"
   ]
  },
  {
   "cell_type": "code",
   "execution_count": 2,
   "id": "a3ba971c",
   "metadata": {},
   "outputs": [],
   "source": [
    "import numpy as np\n",
    "import pandas as pd\n",
    "import warnings\n",
    "warnings.filterwarnings('ignore')"
   ]
  },
  {
   "cell_type": "code",
   "execution_count": 3,
   "id": "50861863",
   "metadata": {},
   "outputs": [],
   "source": [
    "from sklearn.model_selection import train_test_split"
   ]
  },
  {
   "cell_type": "code",
   "execution_count": 4,
   "id": "8cd42c48",
   "metadata": {},
   "outputs": [],
   "source": [
    "#now import data...."
   ]
  },
  {
   "cell_type": "code",
   "execution_count": 5,
   "id": "37c77df0",
   "metadata": {},
   "outputs": [],
   "source": [
    "#ok or you can just do this..."
   ]
  },
  {
   "cell_type": "code",
   "execution_count": 6,
   "id": "9861a340",
   "metadata": {},
   "outputs": [],
   "source": [
    "(x_train,y_train),(x_test,y_test)=tf.keras.datasets.fashion_mnist.load_data()"
   ]
  },
  {
   "cell_type": "code",
   "execution_count": 7,
   "id": "a73fd869",
   "metadata": {},
   "outputs": [],
   "source": [
    "#now scaling the values in convultion or image pixel by 255..."
   ]
  },
  {
   "cell_type": "code",
   "execution_count": 8,
   "id": "ffdff13f",
   "metadata": {},
   "outputs": [
    {
     "data": {
      "text/plain": [
       "(60000, 28, 28)"
      ]
     },
     "execution_count": 8,
     "metadata": {},
     "output_type": "execute_result"
    }
   ],
   "source": [
    "x_train.shape"
   ]
  },
  {
   "cell_type": "code",
   "execution_count": 9,
   "id": "c6172837",
   "metadata": {},
   "outputs": [],
   "source": [
    "x_train,x_test=x_train/255.0 ,x_test/255.0"
   ]
  },
  {
   "cell_type": "code",
   "execution_count": 10,
   "id": "ccf42496",
   "metadata": {},
   "outputs": [],
   "source": [
    "#now building the ANN model..."
   ]
  },
  {
   "cell_type": "code",
   "execution_count": 11,
   "id": "bbcedd9e",
   "metadata": {},
   "outputs": [],
   "source": [
    "from tensorflow import keras"
   ]
  },
  {
   "cell_type": "code",
   "execution_count": 12,
   "id": "55590c31",
   "metadata": {},
   "outputs": [],
   "source": [
    "model=keras.Sequential([\n",
    "    keras.layers.Flatten(input_shape=(28,28)),#flattening is important bcoz\n",
    "    keras.layers.Dense(512,activation='relu'),#512 is no of filters we are using in layer\n",
    "    keras.layers.Dense(10,activation='softmax')#si here 10 are no of filters and activation we are using is softmax bcoz we are having multiple classes to predict in model so rather than using sigmoid we are using softmax\n",
    "])\n"
   ]
  },
  {
   "cell_type": "code",
   "execution_count": 13,
   "id": "de3fc802",
   "metadata": {},
   "outputs": [],
   "source": [
    "model.compile(optimizer='adam',\n",
    "             loss='sparse_categorical_crossentropy',\n",
    "             metrics=['accuracy'])"
   ]
  },
  {
   "cell_type": "code",
   "execution_count": 14,
   "id": "6bf378b6",
   "metadata": {},
   "outputs": [],
   "source": [
    "#here we can use call back function too...callback actually set loss at certain value and doesnt let it exceed..."
   ]
  },
  {
   "cell_type": "code",
   "execution_count": 15,
   "id": "445218f1",
   "metadata": {},
   "outputs": [],
   "source": [
    "class myCallback(tf.keras.callbacks.Callback):\n",
    "    def epoch_end(self,epoch,log={}):\n",
    "        if (logs.get('loss')<0.4):\n",
    "            print(\"\\nLoss is lower than 0.4 so cancelling training!\")\n",
    "            self.model.stop_training = True\n",
    "            \n",
    "callback=myCallback()"
   ]
  },
  {
   "cell_type": "code",
   "execution_count": 16,
   "id": "c38d9d00",
   "metadata": {},
   "outputs": [
    {
     "name": "stdout",
     "output_type": "stream",
     "text": [
      "Epoch 1/21\n",
      "1875/1875 [==============================] - 9s 5ms/step - loss: 0.4732 - accuracy: 0.8300\n",
      "Epoch 2/21\n",
      "1875/1875 [==============================] - 9s 5ms/step - loss: 0.3595 - accuracy: 0.8671\n",
      "Epoch 3/21\n",
      "1875/1875 [==============================] - 8s 4ms/step - loss: 0.3232 - accuracy: 0.8810\n",
      "Epoch 4/21\n",
      "1875/1875 [==============================] - 8s 4ms/step - loss: 0.3001 - accuracy: 0.8890\n",
      "Epoch 5/21\n",
      "1875/1875 [==============================] - 8s 4ms/step - loss: 0.2823 - accuracy: 0.8950\n",
      "Epoch 6/21\n",
      "1875/1875 [==============================] - 8s 4ms/step - loss: 0.2667 - accuracy: 0.9003\n",
      "Epoch 7/21\n",
      "1875/1875 [==============================] - 8s 4ms/step - loss: 0.2518 - accuracy: 0.9049\n",
      "Epoch 8/21\n",
      "1875/1875 [==============================] - 8s 4ms/step - loss: 0.2410 - accuracy: 0.9100\n",
      "Epoch 9/21\n",
      "1875/1875 [==============================] - 8s 4ms/step - loss: 0.2314 - accuracy: 0.9137\n",
      "Epoch 10/21\n",
      "1875/1875 [==============================] - 8s 4ms/step - loss: 0.2219 - accuracy: 0.9162\n",
      "Epoch 11/21\n",
      "1875/1875 [==============================] - 8s 4ms/step - loss: 0.2147 - accuracy: 0.9201\n",
      "Epoch 12/21\n",
      "1875/1875 [==============================] - 8s 4ms/step - loss: 0.2040 - accuracy: 0.9233\n",
      "Epoch 13/21\n",
      "1875/1875 [==============================] - 8s 4ms/step - loss: 0.1964 - accuracy: 0.9264\n",
      "Epoch 14/21\n",
      "1875/1875 [==============================] - 8s 4ms/step - loss: 0.1928 - accuracy: 0.9272\n",
      "Epoch 15/21\n",
      "1875/1875 [==============================] - 8s 4ms/step - loss: 0.1815 - accuracy: 0.9315\n",
      "Epoch 16/21\n",
      "1875/1875 [==============================] - 8s 4ms/step - loss: 0.1769 - accuracy: 0.9321\n",
      "Epoch 17/21\n",
      "1875/1875 [==============================] - 8s 4ms/step - loss: 0.1725 - accuracy: 0.9362\n",
      "Epoch 18/21\n",
      "1875/1875 [==============================] - 8s 4ms/step - loss: 0.1668 - accuracy: 0.9360\n",
      "Epoch 19/21\n",
      "1875/1875 [==============================] - 8s 4ms/step - loss: 0.1605 - accuracy: 0.9388\n",
      "Epoch 20/21\n",
      "1875/1875 [==============================] - 9s 5ms/step - loss: 0.1593 - accuracy: 0.9398\n",
      "Epoch 21/21\n",
      "1875/1875 [==============================] - 9s 5ms/step - loss: 0.1527 - accuracy: 0.9421\n"
     ]
    },
    {
     "data": {
      "text/plain": [
       "<keras.callbacks.History at 0x2700cab0d90>"
      ]
     },
     "execution_count": 16,
     "metadata": {},
     "output_type": "execute_result"
    }
   ],
   "source": [
    "model.fit(x_train,y_train,epochs=21,callbacks=[callback])"
   ]
  },
  {
   "cell_type": "code",
   "execution_count": 17,
   "id": "0e4fc277",
   "metadata": {},
   "outputs": [
    {
     "name": "stdout",
     "output_type": "stream",
     "text": [
      "Model: \"sequential\"\n",
      "_________________________________________________________________\n",
      " Layer (type)                Output Shape              Param #   \n",
      "=================================================================\n",
      " flatten (Flatten)           (None, 784)               0         \n",
      "                                                                 \n",
      " dense (Dense)               (None, 512)               401920    \n",
      "                                                                 \n",
      " dense_1 (Dense)             (None, 10)                5130      \n",
      "                                                                 \n",
      "=================================================================\n",
      "Total params: 407,050\n",
      "Trainable params: 407,050\n",
      "Non-trainable params: 0\n",
      "_________________________________________________________________\n"
     ]
    }
   ],
   "source": [
    "model.summary()"
   ]
  },
  {
   "cell_type": "code",
   "execution_count": 18,
   "id": "2116b5e8",
   "metadata": {},
   "outputs": [],
   "source": [
    "#now building CNN model with the maxpooling layer..."
   ]
  },
  {
   "cell_type": "code",
   "execution_count": 24,
   "id": "f3cc0768",
   "metadata": {},
   "outputs": [
    {
     "name": "stdout",
     "output_type": "stream",
     "text": [
      "Model: \"sequential_2\"\n",
      "_________________________________________________________________\n",
      " Layer (type)                Output Shape              Param #   \n",
      "=================================================================\n",
      " conv2d_5 (Conv2D)           (None, 26, 26, 32)        320       \n",
      "                                                                 \n",
      " max_pooling2d_5 (MaxPooling  (None, 13, 13, 32)       0         \n",
      " 2D)                                                             \n",
      "                                                                 \n",
      " conv2d_6 (Conv2D)           (None, 11, 11, 32)        9248      \n",
      "                                                                 \n",
      " max_pooling2d_6 (MaxPooling  (None, 5, 5, 32)         0         \n",
      " 2D)                                                             \n",
      "                                                                 \n",
      " flatten_3 (Flatten)         (None, 800)               0         \n",
      "                                                                 \n",
      " dense_4 (Dense)             (None, 512)               410112    \n",
      "                                                                 \n",
      " dropout_1 (Dropout)         (None, 512)               0         \n",
      "                                                                 \n",
      " dense_5 (Dense)             (None, 10)                5130      \n",
      "                                                                 \n",
      "=================================================================\n",
      "Total params: 424,810\n",
      "Trainable params: 424,810\n",
      "Non-trainable params: 0\n",
      "_________________________________________________________________\n"
     ]
    }
   ],
   "source": [
    "model_cnn=keras.Sequential([\n",
    "    keras.layers.Conv2D(32,(3,3),activation='relu',input_shape=(28,28,1)),\n",
    "    keras.layers.MaxPooling2D(2,2),\n",
    "    keras.layers.Conv2D(32,(3,3),activation='relu'),\n",
    "    keras.layers.MaxPooling2D(2,2),\n",
    "    keras.layers.Flatten(),\n",
    "    keras.layers.Dense(512,activation='relu'),\n",
    "    keras.layers.Dropout(0.5),\n",
    "    keras.layers.Dense(10,activation='softmax')\n",
    "])\n",
    "model_cnn.summary()"
   ]
  },
  {
   "cell_type": "code",
   "execution_count": 25,
   "id": "0241f6c9",
   "metadata": {},
   "outputs": [],
   "source": [
    "model_cnn.compile(optimizer='adam',\n",
    "                 loss='sparse_categorical_crossentropy',\n",
    "                  metrics=['accuracy'])"
   ]
  },
  {
   "cell_type": "code",
   "execution_count": 26,
   "id": "359d15cf",
   "metadata": {},
   "outputs": [
    {
     "name": "stdout",
     "output_type": "stream",
     "text": [
      "Epoch 1/21\n",
      "1875/1875 [==============================] - 24s 13ms/step - loss: 0.4860 - accuracy: 0.8222\n",
      "Epoch 2/21\n",
      "1875/1875 [==============================] - 23s 13ms/step - loss: 0.3261 - accuracy: 0.8802\n",
      "Epoch 3/21\n",
      "1875/1875 [==============================] - 23s 12ms/step - loss: 0.2853 - accuracy: 0.8947\n",
      "Epoch 4/21\n",
      "1875/1875 [==============================] - 23s 12ms/step - loss: 0.2551 - accuracy: 0.9050\n",
      "Epoch 5/21\n",
      "1875/1875 [==============================] - 24s 13ms/step - loss: 0.2350 - accuracy: 0.9130\n",
      "Epoch 6/21\n",
      "1875/1875 [==============================] - 23s 12ms/step - loss: 0.2173 - accuracy: 0.9186\n",
      "Epoch 7/21\n",
      "1875/1875 [==============================] - 24s 13ms/step - loss: 0.2016 - accuracy: 0.9247\n",
      "Epoch 8/21\n",
      "1875/1875 [==============================] - 23s 12ms/step - loss: 0.1896 - accuracy: 0.9279\n",
      "Epoch 9/21\n",
      "1875/1875 [==============================] - 25s 13ms/step - loss: 0.1761 - accuracy: 0.9340\n",
      "Epoch 10/21\n",
      "1875/1875 [==============================] - 23s 12ms/step - loss: 0.1648 - accuracy: 0.9374\n",
      "Epoch 11/21\n",
      "1875/1875 [==============================] - 24s 13ms/step - loss: 0.1546 - accuracy: 0.9415\n",
      "Epoch 12/21\n",
      "1875/1875 [==============================] - 23s 12ms/step - loss: 0.1461 - accuracy: 0.9450\n",
      "Epoch 13/21\n",
      "1875/1875 [==============================] - 24s 13ms/step - loss: 0.1384 - accuracy: 0.9468\n",
      "Epoch 14/21\n",
      "1875/1875 [==============================] - 23s 12ms/step - loss: 0.1301 - accuracy: 0.9501\n",
      "Epoch 15/21\n",
      "1875/1875 [==============================] - 24s 13ms/step - loss: 0.1229 - accuracy: 0.9528\n",
      "Epoch 16/21\n",
      "1875/1875 [==============================] - 24s 13ms/step - loss: 0.1172 - accuracy: 0.9556\n",
      "Epoch 17/21\n",
      "1875/1875 [==============================] - 24s 13ms/step - loss: 0.1095 - accuracy: 0.9579\n",
      "Epoch 18/21\n",
      "1875/1875 [==============================] - 24s 13ms/step - loss: 0.1075 - accuracy: 0.9597\n",
      "Epoch 19/21\n",
      "1875/1875 [==============================] - 24s 13ms/step - loss: 0.1020 - accuracy: 0.9614\n",
      "Epoch 20/21\n",
      "1875/1875 [==============================] - 24s 13ms/step - loss: 0.0964 - accuracy: 0.9638\n",
      "Epoch 21/21\n",
      "1875/1875 [==============================] - 24s 13ms/step - loss: 0.0977 - accuracy: 0.9633\n"
     ]
    },
    {
     "data": {
      "text/plain": [
       "<keras.callbacks.History at 0x2700f8da250>"
      ]
     },
     "execution_count": 26,
     "metadata": {},
     "output_type": "execute_result"
    }
   ],
   "source": [
    "model_cnn.fit(x_train,y_train,epochs=21)"
   ]
  },
  {
   "cell_type": "code",
   "execution_count": 27,
   "id": "bfd4c10a",
   "metadata": {},
   "outputs": [],
   "source": [
    "#must compile your model before fitting it with data..."
   ]
  },
  {
   "cell_type": "code",
   "execution_count": 28,
   "id": "ad42a261",
   "metadata": {},
   "outputs": [],
   "source": [
    "#now do the accuracy check..."
   ]
  },
  {
   "cell_type": "code",
   "execution_count": 29,
   "id": "86aa62ac",
   "metadata": {},
   "outputs": [
    {
     "name": "stdout",
     "output_type": "stream",
     "text": [
      "313/313 [==============================] - 0s 609us/step - loss: 0.0000e+00 - accuracy: 0.0000e+00\n"
     ]
    }
   ],
   "source": [
    "y_pred=model_cnn.evaluate(x_test)"
   ]
  },
  {
   "cell_type": "code",
   "execution_count": 30,
   "id": "f7b9306c",
   "metadata": {},
   "outputs": [],
   "source": [
    "from sklearn.metrics import classification_report,confusion_matrix,accuracy_score"
   ]
  },
  {
   "cell_type": "code",
   "execution_count": 32,
   "id": "f333ad24",
   "metadata": {},
   "outputs": [
    {
     "name": "stdout",
     "output_type": "stream",
     "text": [
      "313/313 [==============================] - 1s 3ms/step - loss: 0.3421 - accuracy: 0.9145\n"
     ]
    }
   ],
   "source": [
    "y_pred2=model_cnn.evaluate(x_test,y_test)"
   ]
  },
  {
   "cell_type": "code",
   "execution_count": 33,
   "id": "4fa6a5ef",
   "metadata": {},
   "outputs": [
    {
     "name": "stdout",
     "output_type": "stream",
     "text": [
      "accuracy for cnn model is  [0.34213775396347046, 0.9144999980926514]\n"
     ]
    }
   ],
   "source": [
    "print(\"accuracy for cnn model is \",y_pred2)"
   ]
  },
  {
   "cell_type": "code",
   "execution_count": null,
   "id": "538d2435",
   "metadata": {},
   "outputs": [],
   "source": []
  }
 ],
 "metadata": {
  "kernelspec": {
   "display_name": "Python 3 (ipykernel)",
   "language": "python",
   "name": "python3"
  },
  "language_info": {
   "codemirror_mode": {
    "name": "ipython",
    "version": 3
   },
   "file_extension": ".py",
   "mimetype": "text/x-python",
   "name": "python",
   "nbconvert_exporter": "python",
   "pygments_lexer": "ipython3",
   "version": "3.9.13"
  }
 },
 "nbformat": 4,
 "nbformat_minor": 5
}
